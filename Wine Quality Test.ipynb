{
 "cells": [
  {
   "cell_type": "code",
   "execution_count": null,
   "id": "503c4e69",
   "metadata": {},
   "outputs": [],
   "source": [
    "# importing  libraries\n",
    " \n",
    "import pandas as pd\n",
    "import numpy as np\n",
    "import matplotlib.pyplot as plt\n",
    "import seaborn as sb"
   ]
  },
  {
   "cell_type": "code",
   "execution_count": null,
   "id": "a7cc8d69",
   "metadata": {},
   "outputs": [],
   "source": [
    "# loading the data\n",
    "Dataframe = pd.read_csv(R'C:\\Users\\Ashay\\Downloads\\Mini Project\\winequality-red.csv')#please Change path of file as per your path\n",
    "df = Dataframe\n",
    "# show rows and columns\n",
    "Dataframe.head()"
   ]
  },
  {
   "cell_type": "code",
   "execution_count": null,
   "id": "42825538",
   "metadata": {},
   "outputs": [],
   "source": [
    "# getting info.\n",
    "Dataframe.info()"
   ]
  },
  {
   "cell_type": "code",
   "execution_count": null,
   "id": "a31fb1d9",
   "metadata": {},
   "outputs": [],
   "source": [
    "Dataframe.describe()"
   ]
  },
  {
   "cell_type": "code",
   "execution_count": null,
   "id": "58a84657",
   "metadata": {},
   "outputs": [],
   "source": [
    "# null value check\n",
    "Dataframe.isnull().sum()"
   ]
  },
  {
   "cell_type": "code",
   "execution_count": null,
   "id": "4cc90181",
   "metadata": {},
   "outputs": [],
   "source": [
    "# plotting pairplot\n",
    "sb.pairplot(Dataframe)\n",
    "#showing  graph\n",
    "plt.show()"
   ]
  },
  {
   "cell_type": "code",
   "execution_count": null,
   "id": "97dc0063",
   "metadata": {},
   "outputs": [],
   "source": [
    "#plotting histogram\n",
    "Dataframe.hist(bins=20,figsize=(10,10))\n",
    "#plot showing\n",
    "plt.show()"
   ]
  },
  {
   "cell_type": "code",
   "execution_count": null,
   "id": "794320ab",
   "metadata": {},
   "outputs": [],
   "source": [
    "plt.figure(figsize=[15,6])\n",
    "plt.bar(df['quality'],df['alcohol'])\n",
    "plt.xlabel('quality')\n",
    "plt.ylabel('alcohol')\n",
    "plt.show()"
   ]
  },
  {
   "cell_type": "code",
   "execution_count": null,
   "id": "42d5e502",
   "metadata": {},
   "outputs": [],
   "source": [
    "# correlation by visualization\n",
    "plt.figure(figsize=[18,7])\n",
    "# plot correlation\n",
    "sb.heatmap(Dataframe.corr(),annot=True)\n",
    "plt.show()"
   ]
  },
  {
   "cell_type": "code",
   "execution_count": null,
   "id": "be150e03",
   "metadata": {},
   "outputs": [],
   "source": [
    "colm = []\n",
    "# loop for columns\n",
    "for i in range(len(Dataframe.corr().keys())):\n",
    "# loop for rows\n",
    "  for j in range(j):\n",
    "    if abs(Dataframe.corr().iloc[i,j]) > 0.7:\n",
    "      colm = Dataframe.corr().columns[i]"
   ]
  },
  {
   "cell_type": "code",
   "execution_count": null,
   "id": "f73b581f",
   "metadata": {},
   "outputs": [],
   "source": [
    "# drop column\n",
    "new_df = Dataframe.drop('total sulfur dioxide',axis = 1)\n",
    "new_df.update(new_df.fillna(new_df.mean()))"
   ]
  },
  {
   "cell_type": "code",
   "execution_count": null,
   "id": "48f3100e",
   "metadata": {},
   "outputs": [],
   "source": [
    "# no of categorical columns\n",
    "cat = new_df.select_dtypes(include='O')\n",
    "# create dummies of categorical columns\n",
    "df_dummies = pd.get_dummies(new_df,drop_first = True)\n",
    "print(df_dummies)"
   ]
  },
  {
   "cell_type": "code",
   "execution_count": null,
   "id": "2b07d1b0",
   "metadata": {},
   "outputs": [],
   "source": [
    "df_dummies['best quality']=[1 if x>=7 else 0 for x in Dataframe.quality]\n",
    "print(df_dummies)"
   ]
  },
  {
   "cell_type": "code",
   "execution_count": null,
   "id": "993585af",
   "metadata": {},
   "outputs": [],
   "source": [
    "# import libraries\n",
    "from sklearn.model_selection import train_test_split\n",
    "\n",
    "# independent variables\n",
    "x = df_dummies.drop(['quality','best quality'],axis=1)\n",
    "# dependent variable\n",
    "y = df_dummies['best quality']\n",
    "\n",
    "# creating train test splits\n",
    "xtrain , xtest , ytrain , ytest = train_test_split(x,y,test_size=0.2,random_state=40)\n"
   ]
  },
  {
   "cell_type": "code",
   "execution_count": null,
   "id": "a15e7295",
   "metadata": {},
   "outputs": [],
   "source": [
    "# import libraries\n",
    " \n",
    "from sklearn.preprocessing import MinMaxScaler\n",
    "# creating scaler scale var.\n",
    "norm = MinMaxScaler()\n",
    "# fit the scale\n",
    "norm_fit = norm.fit(xtrain)\n",
    "# transformation of training data\n",
    "scal_xtrain = norm_fit.transform(xtrain)\n",
    "# transformation of testing data\n",
    "scal_xtest = norm_fit.transform(xtest)\n",
    "print(scal_xtrain)"
   ]
  },
  {
   "cell_type": "code",
   "execution_count": null,
   "id": "230cf732",
   "metadata": {},
   "outputs": [],
   "source": [
    "#import libraries\n",
    "from sklearn.ensemble import RandomForestClassifier\n",
    " \n",
    "# for error checking\n",
    "from sklearn.metrics import mean_squared_error\n",
    " \n",
    "from sklearn.metrics import classification_report\n",
    " \n",
    "# create model variable\n",
    "rnd = RandomForestClassifier()\n",
    " \n",
    "# fit the model\n",
    "fit_rnd = rnd.fit(new_xtrain,ytrain)\n",
    " \n",
    "# checking the accuracy score\n",
    "rnd_score = rnd.score(new_xtest,ytest)\n",
    " \n",
    "print('score of model is : ',rnd_score)\n",
    " \n",
    "print('.................................')\n",
    " \n",
    "print('calculating the error')\n",
    " \n",
    "# checking mean_squared error\n",
    "MSE = mean_squared_error(ytest,y_predict)\n",
    " \n",
    "# checking root mean squared error\n",
    "RMSE = np.sqrt(MSE)\n",
    " \n",
    "print('mean squared error is : ',MSE)\n",
    " \n",
    "print('root mean squared error is : ',RMSE)\n",
    " \n",
    "print(classification_report(ytest,x_predict))"
   ]
  },
  {
   "cell_type": "code",
   "execution_count": null,
   "id": "dad3754b",
   "metadata": {},
   "outputs": [],
   "source": [
    "#Predicting values\n",
    "x_predict = list(rnd.predict(xtest))\n",
    "df = {'predicted':x_predict,'original':ytest}\n",
    "pd.DataFrame(df).head(10)"
   ]
  },
  {
   "cell_type": "code",
   "execution_count": null,
   "id": "f8690564",
   "metadata": {},
   "outputs": [],
   "source": []
  },
  {
   "cell_type": "code",
   "execution_count": null,
   "id": "f1b766a2",
   "metadata": {},
   "outputs": [],
   "source": []
  },
  {
   "cell_type": "code",
   "execution_count": null,
   "id": "8acae082",
   "metadata": {},
   "outputs": [],
   "source": []
  },
  {
   "cell_type": "code",
   "execution_count": null,
   "id": "0e76cb21",
   "metadata": {},
   "outputs": [],
   "source": []
  },
  {
   "cell_type": "code",
   "execution_count": null,
   "id": "58246238",
   "metadata": {},
   "outputs": [],
   "source": []
  },
  {
   "cell_type": "code",
   "execution_count": null,
   "id": "5152c1d6",
   "metadata": {},
   "outputs": [],
   "source": []
  }
 ],
 "metadata": {
  "kernelspec": {
   "display_name": "Python 3 (ipykernel)",
   "language": "python",
   "name": "python3"
  },
  "language_info": {
   "codemirror_mode": {
    "name": "ipython",
    "version": 3
   },
   "file_extension": ".py",
   "mimetype": "text/x-python",
   "name": "python",
   "nbconvert_exporter": "python",
   "pygments_lexer": "ipython3",
   "version": "3.9.7"
  }
 },
 "nbformat": 4,
 "nbformat_minor": 5
}
